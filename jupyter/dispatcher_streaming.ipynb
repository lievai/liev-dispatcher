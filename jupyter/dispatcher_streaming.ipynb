{
 "cells": [
  {
   "cell_type": "code",
   "execution_count": null,
   "id": "e0c6d78f",
   "metadata": {},
   "outputs": [],
   "source": [
    "import socketio\n",
    "import json\n",
    "\n",
    "# standard Python\n",
    "sio = socketio.Client()\n",
    "@sio.event\n",
    "def connect():\n",
    "    print(\"I'm connected!\")\n",
    "    \n",
    "@sio.event\n",
    "def disconnect():\n",
    "    print(\"I'm disconnected!\")\n",
    "\n",
    "@sio.event\n",
    "def connect_error(error):\n",
    "    print(\"The connection failed!\")\n",
    "    sio.disconnect()\n",
    "    print (error)\n",
    "\n",
    "@sio.on('reply')\n",
    "def message(response):\n",
    "    print(response, end=\"\")\n",
    "\n",
    "    \n",
    "@sio.on('error')\n",
    "def message(data):\n",
    "    print(data, end=\"\")\n",
    "    sio.disconnect()\n",
    "\n",
    "\n",
    "sio.connect('http://localhost:5011', auth=('pluginserver', 'changeme'), transports=['websocket'])"
   ]
  },
  {
   "cell_type": "markdown",
   "id": "72f60d59",
   "metadata": {},
   "source": [
    "# DEEPSEEK "
   ]
  },
  {
   "cell_type": "code",
   "execution_count": null,
   "id": "8db1728b",
   "metadata": {},
   "outputs": [],
   "source": [
    "data = {\n",
    "    \"max_new_tokens\": 1024,\n",
    "    \"temperature\": 0.1,\n",
    "    \"timeout\": 180,\n",
    "    \"instruction\": \"Generate a sample C# api\",\n",
    "    \"llm_name\": \"deepseek-coder\",\n",
    "    #\"function\": \"code\",\n",
    "    \"try_next_on_failure\": True\n",
    "}\n",
    "\n",
    "sio.emit('response', json.dumps(data))"
   ]
  },
  {
   "cell_type": "markdown",
   "id": "6e04d9fa",
   "metadata": {},
   "source": [
    "# DEEPSEEK LITE (LOCAL)"
   ]
  },
  {
   "cell_type": "code",
   "execution_count": null,
   "id": "b6bd2278",
   "metadata": {},
   "outputs": [],
   "source": [
    "data = {\n",
    "    \"max_new_tokens\": 1024,\n",
    "    \"temperature\": 0.1,\n",
    "    \"timeout\": 180,\n",
    "    \"instruction\": \"Generate a sample C# api\",\n",
    "    \"llm_name\": \"deepseek-coder-lite\",\n",
    "    #\"function\": \"code\",\n",
    "    \"try_next_on_failure\": True\n",
    "}\n",
    "\n",
    "sio.emit('response', json.dumps(data))"
   ]
  },
  {
   "cell_type": "markdown",
   "id": "515b4357",
   "metadata": {},
   "source": [
    "# CODELLAMA "
   ]
  },
  {
   "cell_type": "code",
   "execution_count": null,
   "id": "daee737f",
   "metadata": {},
   "outputs": [],
   "source": [
    "data = {\n",
    "    \"max_new_tokens\": 1024,\n",
    "    \"temperature\": 0.1,\n",
    "    \"timeout\": 180,\n",
    "    \"instruction\": \"Generate a sample C# api\",\n",
    "    \"llm_name\": \"codellama\",\n",
    "    #\"function\": \"code\",\n",
    "    \"try_next_on_failure\": True\n",
    "}\n",
    "\n",
    "sio.emit('response', json.dumps(data))"
   ]
  },
  {
   "cell_type": "markdown",
   "id": "5b8e79d7",
   "metadata": {},
   "source": [
    "# LLM DE CÓDIGO MAIS PRIORITÁRIA - ATUALMENTE CODELLAMA"
   ]
  },
  {
   "cell_type": "code",
   "execution_count": null,
   "id": "b69ec83a",
   "metadata": {},
   "outputs": [],
   "source": [
    "data = {\n",
    "    \"max_new_tokens\": 1024,\n",
    "    \"temperature\": 0.1,\n",
    "    \"timeout\": 180,\n",
    "    \"instruction\": \"Generate a sample C# api\",\n",
    "    #\"llm_name\": \"codellama\", --- NÃO USA llm_name\n",
    "    \"function\": \"code\", # Pede somente code\n",
    "    \"try_next_on_failure\": True\n",
    "}\n",
    "\n",
    "sio.emit('response', json.dumps(data))"
   ]
  }
 ],
 "metadata": {
  "kernelspec": {
   "display_name": "Python 3 (ipykernel)",
   "language": "python",
   "name": "python3"
  },
  "language_info": {
   "codemirror_mode": {
    "name": "ipython",
    "version": 3
   },
   "file_extension": ".py",
   "mimetype": "text/x-python",
   "name": "python",
   "nbconvert_exporter": "python",
   "pygments_lexer": "ipython3",
   "version": "3.9.13"
  }
 },
 "nbformat": 4,
 "nbformat_minor": 5
}
