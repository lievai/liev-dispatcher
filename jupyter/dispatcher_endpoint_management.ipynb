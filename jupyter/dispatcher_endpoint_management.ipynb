{
 "cells": [
  {
   "cell_type": "code",
   "execution_count": null,
   "id": "dd1f3b92",
   "metadata": {},
   "outputs": [],
   "source": [
    "import requests\n",
    "from requests.auth import HTTPBasicAuth\n",
    "\n",
    "username = 'lievuser'\n",
    "password = 'changeme'\n",
    "server = 'http://localhost:5011/'\n",
    "auth = HTTPBasicAuth(username, password)"
   ]
  },
  {
   "cell_type": "code",
   "execution_count": null,
   "id": "35a50265",
   "metadata": {},
   "outputs": [],
   "source": [
    "# Single Endpoint\n",
    "\n",
    "url = server + 'v1/llm'\n",
    "\n",
    "endpoint =   {\n",
    "    \"name\": \"openai\",\n",
    "    \"model\": \"gpt-4-turbo\",\n",
    "    \"url\": \"http://example-openai:5000/response\",\n",
    "    \"api\": \"response\",\n",
    "    \"username\": \"llmuser\",\n",
    "    \"password\": \"changeme\",\n",
    "    \"response_mime\": \"text/plain\",\n",
    "    \"is_external\": True\n",
    "}\n",
    "\n",
    "try:\n",
    "   response = requests.post(url, json=endpoint, auth=auth)\n",
    "   response.raise_for_status()  # Check for HTTP errors\n",
    "   print(f\"Request successful for entry '{endpoint['name']}': {response.text}\")\n",
    "except requests.exceptions.RequestException as e:\n",
    "   print(f\"Error for entry '{endpoint['name']}': {e}\")\n",
    "\n",
    "url = server + 'v1/llm_type'\n",
    "\n",
    "# Create the types and priorities\n",
    "json_entries = [\n",
    "  {\n",
    "    \"name\": \"openai\",\n",
    "    \"type\": \"text\",\n",
    "    \"priority\": 1,\n",
    "  },\n",
    "  {\n",
    "    \"name\": \"openai\",\n",
    "    \"type\": \"code\",\n",
    "    \"priority\": 1,\n",
    "  }\n",
    "]\n",
    "\n",
    "for entry in json_entries:\n",
    "    try:\n",
    "        response = requests.post(url, json=entry, auth=auth)\n",
    "        response.raise_for_status()  # Check for HTTP errors\n",
    "\n",
    "        print(f\"Request successful for entry '{entry['name']}': {response.text}\")\n",
    "    except requests.exceptions.RequestException as e:\n",
    "        print(f\"Error for entry '{entry['name']}': {e}\")\n"
   ]
  },
  {
   "cell_type": "code",
   "execution_count": null,
   "id": "8f0a90ce",
   "metadata": {},
   "outputs": [],
   "source": [
    "# DELETE LLM -  TYPE ASSOCIATION\n",
    "response = requests.delete(server + '/v1/llm_type/text/openai', auth=auth)\n",
    "print(f\"Request successful': {response.status_code}\")"
   ]
  },
  {
   "cell_type": "code",
   "execution_count": null,
   "id": "aafeb878",
   "metadata": {},
   "outputs": [],
   "source": [
    "# DELETE LLM\n",
    "response = requests.delete(server + '/v1/llm/openai', auth=auth)\n",
    "print(f\"Request successful': {response.status_code}\")"
   ]
  }
 ],
 "metadata": {
  "kernelspec": {
   "display_name": "Python 3 (ipykernel)",
   "language": "python",
   "name": "python3"
  },
  "language_info": {
   "codemirror_mode": {
    "name": "ipython",
    "version": 3
   },
   "file_extension": ".py",
   "mimetype": "text/x-python",
   "name": "python",
   "nbconvert_exporter": "python",
   "pygments_lexer": "ipython3",
   "version": "3.9.13"
  }
 },
 "nbformat": 4,
 "nbformat_minor": 5
}
